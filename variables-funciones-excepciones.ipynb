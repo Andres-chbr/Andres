{
 "cells": [
  {
   "cell_type": "markdown",
   "metadata": {
    "tags": []
   },
   "source": [
    "<h2> Variables, funciones y excepciones </h2>"
   ]
  },
  {
   "cell_type": "markdown",
   "metadata": {},
   "source": [
    "El uso de `print()` imprimirá qualquier cosa entre paréntesis en tu terminal. Cambia la frase que se imprime a continuación y ejecuta la celda para ver los cambios."
   ]
  },
  {
   "cell_type": "code",
   "execution_count": null,
   "metadata": {},
   "outputs": [],
   "source": [
    "print('buenas tardes compañeros!')"
   ]
  },
  {
   "cell_type": "markdown",
   "metadata": {},
   "source": [
    "----"
   ]
  },
  {
   "cell_type": "markdown",
   "metadata": {},
   "source": [
    "<h3> Variables </h3>"
   ]
  },
  {
   "cell_type": "markdown",
   "metadata": {},
   "source": [
    "#### Ejercicio 1\n",
    "\n",
    "Utilizando la linea print() de la celda siguiente, imprime el número 10 utilizando los operadores `+` y/o `*`. \n",
    "Multiplica y/o suma qualquier combinación de números para obtener el número 10. "
   ]
  },
  {
   "cell_type": "code",
   "execution_count": 1,
   "metadata": {},
   "outputs": [
    {
     "name": "stdout",
     "output_type": "stream",
     "text": [
      "10\n"
     ]
    }
   ],
   "source": [
    "print(5 + 5)"
   ]
  },
  {
   "cell_type": "markdown",
   "metadata": {
    "tags": []
   },
   "source": [
    "#### Ejercicio 2\n",
    "\n",
    "La función `print` se utiliza normalmente como debugger. De hecho, podeis añadir múltiples argumentos dentro de `print`, cada uno separado por una coma. Imprime el siguiente mensaje:\n",
    "```\n",
    "3 + 4, 'deberia ser igual a 7'\n",
    "```"
   ]
  },
  {
   "cell_type": "code",
   "execution_count": 41,
   "metadata": {},
   "outputs": [
    {
     "name": "stdout",
     "output_type": "stream",
     "text": [
      "7 debería ser igual a 7\n"
     ]
    }
   ],
   "source": [
    "print (3 + 4, 'debería ser igual a 7')"
   ]
  },
  {
   "cell_type": "markdown",
   "metadata": {},
   "source": [
    "#### Ejercicio 3\n",
    "\n",
    "Concatena dos strings usando el operador `+` e imprime tu nombre y apellido."
   ]
  },
  {
   "cell_type": "code",
   "execution_count": 5,
   "metadata": {},
   "outputs": [
    {
     "name": "stdout",
     "output_type": "stream",
     "text": [
      "Andrés Chimalpopoca\n"
     ]
    }
   ],
   "source": [
    "print('Andrés' + ' ' +'Chimalpopoca')"
   ]
  },
  {
   "cell_type": "markdown",
   "metadata": {},
   "source": [
    "#### Ejercicio 4\n",
    "\n",
    "Usa el operador módulo `%` para determinar si un número es par o impar. ¿Cómo lo puedes comprobar?"
   ]
  },
  {
   "cell_type": "code",
   "execution_count": 42,
   "metadata": {},
   "outputs": [
    {
     "name": "stdout",
     "output_type": "stream",
     "text": [
      "True\n"
     ]
    }
   ],
   "source": [
    "a = 10\n",
    "\n",
    "print (a % 2 == 0)\n"
   ]
  },
  {
   "cell_type": "code",
   "execution_count": 44,
   "metadata": {},
   "outputs": [
    {
     "name": "stdout",
     "output_type": "stream",
     "text": [
      "par\n"
     ]
    }
   ],
   "source": [
    "if a % 2 == 0:\n",
    "    print (\"par\")\n",
    "else: print (\"inpar\")"
   ]
  },
  {
   "cell_type": "markdown",
   "metadata": {
    "tags": []
   },
   "source": [
    "#### Ejercicio 5\n",
    "\n",
    "Cambia la ubicación de Mia reasignando la variable `ubicacion_actual` con un nuevo string. Hazlo en una nueva línea de código, sin eliminar ninguna de las que ya hay escritas. Elimina el carácter `#` de la última línea para descomentar el código e imprimir el mensaje. \n"
   ]
  },
  {
   "cell_type": "code",
   "execution_count": 28,
   "metadata": {},
   "outputs": [],
   "source": [
    "nombre = 'Mia'\n",
    "ubicacion_actual = 'escuela'\n",
    "# escribe aquí tu código\n",
    "# print(nombre + ' está en  ' + ubicacion_actual)"
   ]
  },
  {
   "cell_type": "code",
   "execution_count": 31,
   "metadata": {},
   "outputs": [
    {
     "name": "stdout",
     "output_type": "stream",
     "text": [
      "Mia está en gym\n"
     ]
    }
   ],
   "source": [
    "ubicacion_actual = \"gym\"\n",
    "print (nombre + ' está en ' + ubicacion_actual)"
   ]
  },
  {
   "cell_type": "markdown",
   "metadata": {
    "tags": []
   },
   "source": [
    "#### Ejercicio 6\n",
    "\n",
    "Crea las variables necesarias para que se imprima el siguiente mensaje:"
   ]
  },
  {
   "cell_type": "code",
   "execution_count": null,
   "metadata": {},
   "outputs": [],
   "source": [
    "#escribe aqui tu codigo\n",
    "print(person, 'fue al', place, 'a comer', food)"
   ]
  },
  {
   "cell_type": "code",
   "execution_count": 32,
   "metadata": {},
   "outputs": [
    {
     "name": "stdout",
     "output_type": "stream",
     "text": [
      "Andrés fue al restaurante a comer sushi\n"
     ]
    }
   ],
   "source": [
    "person = \"Andrés\"\n",
    "place = \"restaurante\"\n",
    "food = \"sushi\"\n",
    "print(person, 'fue al', place, 'a comer', food)"
   ]
  },
  {
   "cell_type": "markdown",
   "metadata": {
    "tags": []
   },
   "source": [
    "#### Ejercicio 7\n",
    "\n",
    "Reasigna todas las variables anteriores de manera que se imprima un mensaje nuevo en la pantalla!"
   ]
  },
  {
   "cell_type": "code",
   "execution_count": 33,
   "metadata": {},
   "outputs": [
    {
     "name": "stdout",
     "output_type": "stream",
     "text": [
      "Juan fue al bar a comer patatas\n"
     ]
    }
   ],
   "source": [
    "person = \"Juan\"\n",
    "place = \"bar\"\n",
    "food = \"patatas\"\n",
    "print(person, 'fue al', place, 'a comer', food)"
   ]
  },
  {
   "cell_type": "markdown",
   "metadata": {
    "tags": []
   },
   "source": [
    "#### Ejercicio 8\n",
    "\n",
    "Hay dos maneras de aumentar el número almacenado en la variable `count`. Cual es el resultado de ejecutar las 4 líneas de código siguientes? Escribe en un comentario, utilizando el operador `#`, el valor de la variable `count` en cada línea\n",
    "\n",
    "*Pista: ¡busca qué hace += si no está claro!*"
   ]
  },
  {
   "cell_type": "code",
   "execution_count": 35,
   "metadata": {},
   "outputs": [],
   "source": [
    "count = 0 #aquí damos valor a la variable count de \"0\"\n",
    "count = count + 1 #aquí hemos reasignado el valor de count sumando +1 al valor que ya habíamos asignado previamente\n",
    "count += 1 #aquí estamos sumando 1 al valor original de count (0 en este caso)\n",
    "count += count #aquí estamos sumando el valor que tenga count (1 en este caso) a count"
   ]
  },
  {
   "cell_type": "markdown",
   "metadata": {},
   "source": [
    "#### Ejercicio 9\n",
    "\n",
    "Hora de intercambio! En el código siguiente, queremos intercambiar los valores almacenados en las variables `a` y `b`. El código escrito a continuación no funciona. Para llevar a cabo esta tarea, tendrás que crear una variable adicional (podéis llamarla `temp`) para almacenar el valor de `a` o `b` mientras intercambias su valor. Prueba a dibujar si no lo ves claro!"
   ]
  },
  {
   "cell_type": "code",
   "execution_count": null,
   "metadata": {},
   "outputs": [],
   "source": [
    "a = 1\n",
    "b = 2\n",
    "temp = a"
   ]
  },
  {
   "cell_type": "code",
   "execution_count": 40,
   "metadata": {},
   "outputs": [
    {
     "name": "stdout",
     "output_type": "stream",
     "text": [
      "ANTES > es: 10 - y b es:  0\n"
     ]
    }
   ],
   "source": [
    "print('ANTES > es:', a, '- y b es: ', b)"
   ]
  },
  {
   "cell_type": "code",
   "execution_count": null,
   "metadata": {},
   "outputs": [],
   "source": [
    "# escribe aqui el codigo"
   ]
  },
  {
   "cell_type": "code",
   "execution_count": null,
   "metadata": {},
   "outputs": [],
   "source": [
    "print('DESPUES > a:', a, 'debe ser 2 - y b:', b, 'debe ser 1')"
   ]
  },
  {
   "cell_type": "markdown",
   "metadata": {
    "tags": []
   },
   "source": [
    "#### Ejercicio 10\n",
    "\n",
    "¿Cuál será el resultado de ejecutar el código siguiente? Intenta que se evalue como cierto probando combinaciones diferentes. \n",
    "\n",
    "*Sugerencia: tratad de convertir el número en un string, o viceversa!*\n"
   ]
  },
  {
   "cell_type": "code",
   "execution_count": null,
   "metadata": {},
   "outputs": [],
   "source": [
    "print(3 == '3', 'should be True')"
   ]
  },
  {
   "cell_type": "markdown",
   "metadata": {},
   "source": [
    "----"
   ]
  },
  {
   "cell_type": "markdown",
   "metadata": {},
   "source": [
    "<h3> Funciones </h3>"
   ]
  },
  {
   "cell_type": "markdown",
   "metadata": {
    "tags": []
   },
   "source": [
    "#### Ejercicio 1\n",
    "\n",
    "Define una función llamada `triple` con un parámetro de entrada `x` que retorne su valor multiplicado por tres.\n"
   ]
  },
  {
   "cell_type": "code",
   "execution_count": null,
   "metadata": {},
   "outputs": [],
   "source": [
    "# escribe aquí el código"
   ]
  },
  {
   "cell_type": "markdown",
   "metadata": {
    "tags": []
   },
   "source": [
    "#### Ejercicio 2\n",
    "\n",
    "Define una función llamada `resta` con dos parámetros de entrada que retorne el resultado de restar el segundo valor del primero."
   ]
  },
  {
   "cell_type": "code",
   "execution_count": null,
   "metadata": {},
   "outputs": [],
   "source": [
    "# escribe tu código aquí"
   ]
  },
  {
   "cell_type": "markdown",
   "metadata": {},
   "source": [
    "#### Ejercicio 3\n",
    "\n",
    "Define una función que calcule el volumen de un cubo a partir de la longitud de sus lados.\n",
    "\n",
    "*Nota: $V=c^3$, donde $V$ es el volumen i $c$ es la longitud de los lados del cubo.*"
   ]
  },
  {
   "cell_type": "code",
   "execution_count": null,
   "metadata": {},
   "outputs": [],
   "source": [
    "# escribe el código aquí"
   ]
  },
  {
   "cell_type": "markdown",
   "metadata": {},
   "source": [
    "#### Ejercicio 4\n",
    "\n",
    "Define una variable llamada `total` y asignale el valor 0. Define una función llamada `my_sum` que tenga dos parámetros de entrada, los sume y asigne la solucion a la variable `total` dentro de la función. Imprime el valor de `total` dentro y fuera de la función para ver la diferencia entre los dos outputs."
   ]
  },
  {
   "cell_type": "code",
   "execution_count": null,
   "metadata": {},
   "outputs": [],
   "source": [
    "# escribe el código aquí"
   ]
  },
  {
   "cell_type": "markdown",
   "metadata": {},
   "source": [
    "----"
   ]
  },
  {
   "cell_type": "markdown",
   "metadata": {},
   "source": [
    "<h3> Excepciones </h3>"
   ]
  },
  {
   "cell_type": "markdown",
   "metadata": {},
   "source": [
    "#### Ejercicio 1\n",
    "\n",
    "Sin ejecutar el código, sabrías decir cual será el output de la celda siguiente?"
   ]
  },
  {
   "cell_type": "code",
   "execution_count": null,
   "metadata": {},
   "outputs": [],
   "source": [
    "def fn(x):\n",
    "    try:\n",
    "        print(5/x)\n",
    "    except:\n",
    "        print('Error ocurred')\n",
    "fn(0)"
   ]
  },
  {
   "cell_type": "markdown",
   "metadata": {},
   "source": [
    "#### Ejercicio 2\n",
    "\n",
    "Define una función llamada `division` con dos parámetros de entrada: el numerador y el denominador. Crea una excepción en caso de que el denominador sea 0 y, en lugar de hacer saltar un error, imprime el siguiente mensaje:\n",
    "\n",
    "```python\n",
    "'el denominador de una funcion no puede ser 0'\n",
    "```\n"
   ]
  },
  {
   "cell_type": "code",
   "execution_count": null,
   "metadata": {},
   "outputs": [],
   "source": [
    "# escribe el código aquí"
   ]
  },
  {
   "cell_type": "markdown",
   "metadata": {
    "tags": []
   },
   "source": [
    "#### Ejercicio 3\n",
    "\n",
    "Define una función llamada `resta_segura` con dos parámetros de entrada que retorne el resultado de restar el segundo valor del primero. Si los valores no se pueden restar, retorna `None`."
   ]
  },
  {
   "cell_type": "code",
   "execution_count": null,
   "metadata": {},
   "outputs": [],
   "source": [
    "# escribe el código aquí"
   ]
  },
  {
   "cell_type": "markdown",
   "metadata": {
    "tags": []
   },
   "source": [
    "#### Ejercicio 4\n",
    "\n",
    "Define una función llamada `saluda_persona` que acepte como valor de entrada un 'string' que sea el nombre de una persona. La función debe retornar el string como parte de una frase más larga que salude a la persona:\n",
    "\n",
    "```python\n",
    "saluda_persona('Sophia') -> 'Hola, Sophia!'\n",
    "```\n",
    "\n",
    "Si la función se llama con un argumento que no es un string, deberia levantar una excepción con la siguiente frase: 'Por favor, proporcioname un nombre':\n",
    "\n",
    "```python\n",
    "saluda_persona(5) -> Exeception: 'Por favor, proporcioname un nombre'\n",
    "```"
   ]
  },
  {
   "cell_type": "code",
   "execution_count": null,
   "metadata": {},
   "outputs": [],
   "source": [
    "# escribe el código aquí"
   ]
  }
 ],
 "metadata": {
  "kernelspec": {
   "display_name": "Python 3 (ipykernel)",
   "language": "python",
   "name": "python3"
  },
  "language_info": {
   "codemirror_mode": {
    "name": "ipython",
    "version": 3
   },
   "file_extension": ".py",
   "mimetype": "text/x-python",
   "name": "python",
   "nbconvert_exporter": "python",
   "pygments_lexer": "ipython3",
   "version": "3.11.10"
  }
 },
 "nbformat": 4,
 "nbformat_minor": 4
}
