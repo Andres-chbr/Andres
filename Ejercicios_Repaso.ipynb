{
  "nbformat": 4,
  "nbformat_minor": 0,
  "metadata": {
    "colab": {
      "provenance": [],
      "include_colab_link": true
    },
    "kernelspec": {
      "name": "python3",
      "display_name": "Python 3"
    },
    "language_info": {
      "name": "python"
    }
  },
  "cells": [
    {
      "cell_type": "markdown",
      "metadata": {
        "id": "view-in-github",
        "colab_type": "text"
      },
      "source": [
        "<a href=\"https://colab.research.google.com/github/Andres-chbr/Andres/blob/main/Ejercicios_Repaso.ipynb\" target=\"_parent\"><img src=\"https://colab.research.google.com/assets/colab-badge.svg\" alt=\"Open In Colab\"/></a>"
      ]
    },
    {
      "cell_type": "markdown",
      "source": [
        "## 1 - Dictionary Transformations\n",
        "\n",
        "### Exercise: Multi-Value Reverse Dictionary\n",
        "Write a function called `reverse_dictionary_multi` that swaps keys and values in a dictionary. If a value appears multiple times, store the keys as a list.\n",
        "\n",
        "#### Example:\n",
        "```python\n",
        "reverse_dictionary_multi({'a': 1, 'b': 2, 'c': 1})\n",
        ">>> {1: ['a', 'c'], 2: ['b']}\n",
        "```\n",
        "\n"
      ],
      "metadata": {
        "id": "sTDqAzbPW6qi"
      }
    },
    {
      "cell_type": "code",
      "execution_count": null,
      "metadata": {
        "id": "GSBqTWlNW41o"
      },
      "outputs": [],
      "source": [
        "\"\"\"\n",
        "PSEUDOCODIGO:\n",
        "\n",
        "--> funcion reverse_dictionary_multi --> INPUT: diccionario\n",
        "                                     --> OUTPUT: diccionario invertido\n",
        "1. Creare un diccionario vacio para guardar los resultados\n",
        "2. Iterar sobre el diccionario input\n",
        "  2.1 Comprobare\n",
        "\"\"\""
      ]
    },
    {
      "cell_type": "markdown",
      "source": [
        "\n",
        "## 2 - Advanced Chunking\n",
        "\n",
        "### Exercise: Sliding Window Chunking\n",
        "Write a function called `sliding_chunking` that takes a list and a window size, returning overlapping chunks of that size.\n",
        "\n",
        "#### Example:\n",
        "```python\n",
        "sliding_chunking([1, 2, 3, 4, 5], 3)\n",
        ">>> [[1, 2, 3], [2, 3, 4], [3, 4, 5]]\n",
        "```"
      ],
      "metadata": {
        "id": "j13pdP9UXN-p"
      }
    },
    {
      "cell_type": "markdown",
      "source": [
        "\n",
        "## 3 - CSV & JSON Data Handling\n",
        "\n",
        "### Exercise: JSON Merging\n",
        "Write a function `merge_json_files(file_list)` that takes a list of JSON file paths, loads them, and merges them into a single dictionary.\n",
        "\n",
        "---"
      ],
      "metadata": {
        "id": "HAIxAwaxXWpR"
      }
    },
    {
      "cell_type": "code",
      "source": [],
      "metadata": {
        "id": "AWjT3TyWXcC5"
      },
      "execution_count": null,
      "outputs": []
    },
    {
      "cell_type": "markdown",
      "source": [
        "### Exercise: Dictionary to JSON File\n",
        "Write a function `save_dict_to_json(data, filepath)` that takes a dictionary and saves it as a JSON file at the given file path.\n",
        "\n",
        "#### Example:\n",
        "```python\n",
        "data = {\"name\": \"Alice\", \"age\": 30}\n",
        "save_dict_to_json(data, \"output.json\")\n",
        "```"
      ],
      "metadata": {
        "id": "desB1olaYNPZ"
      }
    },
    {
      "cell_type": "code",
      "source": [],
      "metadata": {
        "id": "cIKnNGk0YPp5"
      },
      "execution_count": null,
      "outputs": []
    },
    {
      "cell_type": "markdown",
      "source": [
        "## 4 - Numpy Operations\n",
        "\n",
        "### Exercise: Element-Wise Power\n",
        "Given a 2x5 matrix `a`, compute a new matrix where each element is raised to the power of its index.\n",
        "\n",
        "#### Example:\n",
        "```python\n",
        "import numpy as np\n",
        "a = np.array([[2, 4, 6, 8, 10], [12, 14, 16, 18, 20]])\n",
        "power_matrix(a)\n",
        ">>> array([[2**0, 4**1, 6**2, 8**3, 10**4],\n",
        "           [12**0, 14**1, 16**2, 18**3, 20**4]])\n",
        "```\n"
      ],
      "metadata": {
        "id": "JwO9hzPmXjAp"
      }
    },
    {
      "cell_type": "code",
      "source": [],
      "metadata": {
        "id": "KkVobsk4XnxJ"
      },
      "execution_count": null,
      "outputs": []
    },
    {
      "cell_type": "markdown",
      "source": [
        "\n",
        "### Exercise: Row Swap\n",
        "Swap the first and last row of matrix `a`.\n"
      ],
      "metadata": {
        "id": "Ia1k_JGCXoKR"
      }
    },
    {
      "cell_type": "code",
      "source": [],
      "metadata": {
        "id": "eZn-c0bcXo8Q"
      },
      "execution_count": null,
      "outputs": []
    },
    {
      "cell_type": "markdown",
      "source": [
        "## 5 - Queue Variations\n",
        "\n",
        "### Exercise: Priority Queue\n",
        "Implement a `PriorityQueue` class where elements are inserted with a priority value, and `remove()` retrieves the element with the highest priority. If two elements have the same priority, it retrieves the first element that got to the queue.\n",
        "\n",
        "#### Example:\n",
        "```python\n",
        "pq = PriorityQueue()\n",
        "pq.insert(\"low\", 1)\n",
        "pq.insert(\"high\", 3)\n",
        "pq.insert(\"medium\", 2)\n",
        "pq.remove()  # \"high\"\n",
        "```"
      ],
      "metadata": {
        "id": "SEkIT57BXtiR"
      }
    },
    {
      "cell_type": "code",
      "source": [],
      "metadata": {
        "id": "wdUil9rKYTqh"
      },
      "execution_count": null,
      "outputs": []
    }
  ]
}